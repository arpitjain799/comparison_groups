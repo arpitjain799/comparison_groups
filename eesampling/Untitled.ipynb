{
 "cells": [
  {
   "cell_type": "code",
   "execution_count": 1,
   "metadata": {},
   "outputs": [],
   "source": [
    "import eemeter\n",
    "import datetime\n",
    "import pytz"
   ]
  },
  {
   "cell_type": "code",
   "execution_count": 2,
   "metadata": {},
   "outputs": [],
   "source": [
    "meter_data, temperature_data, metadata = \\\n",
    "     eemeter.load_sample('il-electricity-cdd-hdd-daily')"
   ]
  },
  {
   "cell_type": "code",
   "execution_count": 4,
   "metadata": {},
   "outputs": [],
   "source": [
    "data = eemeter.create_caltrack_daily_design_matrix(meter_data, temperature_data)"
   ]
  },
  {
   "cell_type": "code",
   "execution_count": 13,
   "metadata": {},
   "outputs": [],
   "source": [
    "baseline_end_date = datetime.datetime(2016, 12, 26, 0, 0, tzinfo=pytz.UTC)\n",
    "baseline_data, warnings = eemeter.get_baseline_data(data, end=baseline_end_date, max_days=365)"
   ]
  },
  {
   "cell_type": "code",
   "execution_count": 14,
   "metadata": {},
   "outputs": [],
   "source": [
    "model_results = eemeter.fit_caltrack_usage_per_day_model(baseline_data)"
   ]
  },
  {
   "cell_type": "code",
   "execution_count": 15,
   "metadata": {},
   "outputs": [
    {
     "data": {
      "text/plain": [
       "CalTRACKUsagePerDayModelResults(status='SUCCESS', method_name='caltrack_usage_per_day', r_squared_adj=0.7684732992831353)"
      ]
     },
     "execution_count": 15,
     "metadata": {},
     "output_type": "execute_result"
    }
   ],
   "source": [
    "model_results"
   ]
  },
  {
   "cell_type": "code",
   "execution_count": 23,
   "metadata": {},
   "outputs": [
    {
     "data": {
      "text/plain": [
       "{'intercept': 13.472385591795213,\n",
       " 'beta_cdd': 2.516255026490126,\n",
       " 'beta_hdd': 1.1122947857443488,\n",
       " 'cooling_balance_point': 68,\n",
       " 'heating_balance_point': 53}"
      ]
     },
     "execution_count": 23,
     "metadata": {},
     "output_type": "execute_result"
    }
   ],
   "source": [
    "model_results.model.model_params"
   ]
  },
  {
   "cell_type": "code",
   "execution_count": 17,
   "metadata": {},
   "outputs": [
    {
     "name": "stdout",
     "output_type": "stream",
     "text": [
      "{\n",
      "  \"status\": \"SUCCESS\",\n",
      "  \"method_name\": \"caltrack_usage_per_day\",\n",
      "  \"interval\": \"daily\",\n",
      "  \"model\": {\n",
      "    \"model_type\": \"cdd_hdd\",\n",
      "    \"formula\": \"meter_value ~ cdd_68 + hdd_53\",\n",
      "    \"status\": \"QUALIFIED\",\n",
      "    \"model_params\": {\n",
      "      \"intercept\": 13.472385591795213,\n",
      "      \"beta_cdd\": 2.516255026490126,\n",
      "      \"beta_hdd\": 1.1122947857443488,\n",
      "      \"cooling_balance_point\": 68,\n",
      "      \"heating_balance_point\": 53\n",
      "    },\n",
      "    \"r_squared_adj\": 0.7684732992831353,\n",
      "    \"warnings\": []\n",
      "  },\n",
      "  \"r_squared_adj\": 0.7684732992831353,\n",
      "  \"warnings\": [],\n",
      "  \"metadata\": {},\n",
      "  \"settings\": {\n",
      "    \"fit_cdd\": true,\n",
      "    \"minimum_non_zero_cdd\": 10,\n",
      "    \"minimum_non_zero_hdd\": 10,\n",
      "    \"minimum_total_cdd\": 20,\n",
      "    \"minimum_total_hdd\": 20,\n",
      "    \"beta_cdd_maximum_p_value\": 1,\n",
      "    \"beta_hdd_maximum_p_value\": 1\n",
      "  },\n",
      "  \"totals_metrics\": {\n",
      "    \"observed_length\": 365.0,\n",
      "    \"predicted_length\": 365.0,\n",
      "    \"merged_length\": 365.0,\n",
      "    \"num_parameters\": 2.0,\n",
      "    \"observed_mean\": 28.515205479452053,\n",
      "    \"predicted_mean\": 28.515205479452053,\n",
      "    \"observed_variance\": 227.14091865640836,\n",
      "    \"predicted_variance\": 174.8406827417312,\n",
      "    \"observed_skew\": 0.8886811331096771,\n",
      "    \"predicted_skew\": 0.5455712763914577,\n",
      "    \"observed_kurtosis\": 0.8614282249213239,\n",
      "    \"predicted_kurtosis\": -0.6097327958678194,\n",
      "    \"observed_cvstd\": 0.5292573816587004,\n",
      "    \"predicted_cvstd\": 0.4643446881483751,\n",
      "    \"r_squared\": 0.7697454240123474,\n",
      "    \"r_squared_adj\": 0.7684732992831338,\n",
      "    \"rmse\": 7.2318902034445225,\n",
      "    \"rmse_adj\": 7.25178539977947,\n",
      "    \"cvrmse\": 0.2536152232413613,\n",
      "    \"cvrmse_adj\": 0.25431292806236583,\n",
      "    \"mape\": 0.24130173784949416,\n",
      "    \"mape_no_zeros\": 0.24130173784949416,\n",
      "    \"num_meter_zeros\": 0.0,\n",
      "    \"nmae\": 0.19518739588748232,\n",
      "    \"nmbe\": -1.2151806242792632e-16,\n",
      "    \"autocorr_resid\": -0.014795668094989898\n",
      "  },\n",
      "  \"avgs_metrics\": {\n",
      "    \"observed_length\": 365.0,\n",
      "    \"predicted_length\": 365.0,\n",
      "    \"merged_length\": 365.0,\n",
      "    \"num_parameters\": 2.0,\n",
      "    \"observed_mean\": 28.515205479452053,\n",
      "    \"predicted_mean\": 28.515205479452053,\n",
      "    \"observed_variance\": 227.14091865640836,\n",
      "    \"predicted_variance\": 174.8406827417312,\n",
      "    \"observed_skew\": 0.8886811331096771,\n",
      "    \"predicted_skew\": 0.5455712763914577,\n",
      "    \"observed_kurtosis\": 0.8614282249213239,\n",
      "    \"predicted_kurtosis\": -0.6097327958678194,\n",
      "    \"observed_cvstd\": 0.5292573816587004,\n",
      "    \"predicted_cvstd\": 0.4643446881483751,\n",
      "    \"r_squared\": 0.7697454240123474,\n",
      "    \"r_squared_adj\": 0.7684732992831338,\n",
      "    \"rmse\": 7.2318902034445225,\n",
      "    \"rmse_adj\": 7.25178539977947,\n",
      "    \"cvrmse\": 0.2536152232413613,\n",
      "    \"cvrmse_adj\": 0.25431292806236583,\n",
      "    \"mape\": 0.24130173784949416,\n",
      "    \"mape_no_zeros\": 0.24130173784949416,\n",
      "    \"num_meter_zeros\": 0.0,\n",
      "    \"nmae\": 0.19518739588748232,\n",
      "    \"nmbe\": -1.2151806242792632e-16,\n",
      "    \"autocorr_resid\": -0.014795668094989898\n",
      "  },\n",
      "  \"candidates\": null\n",
      "}\n"
     ]
    }
   ],
   "source": [
    "import json\n",
    "print(json.dumps(model_results.json(), indent=2))"
   ]
  },
  {
   "cell_type": "code",
   "execution_count": null,
   "metadata": {},
   "outputs": [],
   "source": []
  }
 ],
 "metadata": {
  "kernelspec": {
   "display_name": "Python 3",
   "language": "python",
   "name": "python3"
  },
  "language_info": {
   "codemirror_mode": {
    "name": "ipython",
    "version": 3
   },
   "file_extension": ".py",
   "mimetype": "text/x-python",
   "name": "python",
   "nbconvert_exporter": "python",
   "pygments_lexer": "ipython3",
   "version": "3.6.8"
  }
 },
 "nbformat": 4,
 "nbformat_minor": 2
}
